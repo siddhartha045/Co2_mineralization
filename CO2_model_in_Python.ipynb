{
 "cells": [
  {
   "cell_type": "markdown",
   "source": [
    "Solving the mm co2 Mineralization model"
   ],
   "metadata": {
    "collapsed": false
   }
  },
  {
   "cell_type": "code",
   "execution_count": 18,
   "outputs": [],
   "source": [
    "import numpy as np\n",
    "import math\n",
    "import scipy.integrate\n",
    "from scipy.integrate import ode\n",
    "from scipy.integrate import odeint\n",
    "from scipy.integrate import solve_ivp"
   ],
   "metadata": {
    "collapsed": false
   }
  },
  {
   "cell_type": "code",
   "execution_count": 19,
   "metadata": {
    "collapsed": true
   },
   "outputs": [],
   "source": [
    "##Initial Concentration\n",
    "co2g = 11.195\n",
    "co2aq = 5.47 * 10**(-4)\n",
    "h20 = 5.55\n",
    "h2co3 = 1.64 * 10**(-6)\n",
    "hplus = 1 * 10**(-6)\n",
    "hco3 = 1*10**(-7)\n",
    "co3 = 1*10**(-8)\n",
    "ca2 = 1* 10**(-8)\n",
    "caco3 = 1 * 10**(-8)\n",
    "#IC =\n",
    "#for i in range()\n",
    "IC = np.array([co2aq,h2co3,hco3,co3,ca2])"
   ]
  },
  {
   "cell_type": "markdown",
   "source": [],
   "metadata": {
    "collapsed": false
   }
  },
  {
   "cell_type": "code",
   "execution_count": 20,
   "outputs": [
    {
     "data": {
      "text/plain": "array([5.47e-04, 1.64e-06, 1.00e-07, 1.00e-08, 1.00e-08])"
     },
     "execution_count": 20,
     "metadata": {},
     "output_type": "execute_result"
    }
   ],
   "source": [
    "IC"
   ],
   "metadata": {
    "collapsed": false
   }
  },
  {
   "cell_type": "code",
   "execution_count": 21,
   "outputs": [],
   "source": [
    "t=[1,2,3,4,5]"
   ],
   "metadata": {
    "collapsed": false
   }
  },
  {
   "cell_type": "markdown",
   "source": [
    "Parameters"
   ],
   "metadata": {
    "collapsed": false
   }
  },
  {
   "cell_type": "code",
   "execution_count": 21,
   "outputs": [],
   "source": [
    "\n"
   ],
   "metadata": {
    "collapsed": false
   }
  },
  {
   "cell_type": "markdown",
   "source": [],
   "metadata": {
    "collapsed": false
   }
  },
  {
   "cell_type": "markdown",
   "source": [
    "Differential equations"
   ],
   "metadata": {
    "collapsed": false
   }
  },
  {
   "cell_type": "code",
   "execution_count": 22,
   "outputs": [],
   "source": [
    "def co2_sys(t,c):\n",
    "    k1 = 1.0 * 10**10\n",
    "    k2 = 6.0* 10**(-2)\n",
    "    k3 = 1.0* 10**7\n",
    "    k4 = 3.0\n",
    "    k5 = 2.0\n",
    "    k1minus = 1.0*10**10\n",
    "    k2minus = 2.0*10**1\n",
    "    k3minus = 5.0*10**10\n",
    "    k4minus = 5.0*10**10\n",
    "    k5minus = 1.0*10**(-3)\n",
    "    S = 7.0*10**(-5)\n",
    "    #Q = co2ag , W = h2co3 E = hco3 R = co32- T = ca2+ X = co2g Z = caco3\n",
    "    co2g1 = 0.065\n",
    "    co2aq1 = 5.47 * 10**(-4)\n",
    "    h201 = 5.55\n",
    "    h2co31 = 1.64* 10**(-6)\n",
    "    hplus1 = 1.0*10**(-6)\n",
    "    hco31 = 3.28 * 10**(-4)\n",
    "    co31 = 1.97* 10**(-4)\n",
    "    ca21 = 2.50* 10**(-4)\n",
    "    caco31 = 9.84 * 10**(-8)\n",
    "    X = co2g1 - c[0] + co2aq1 - c[1] + h2co31 - c[2] + hco31 - c[3] + co31 + c[4] -ca21\n",
    "    Y = hplus1 + c[2] -hco31 + 2*co31 - 2*c[3] + 2*ca21\n",
    "    Z = caco31 - c[4] + ca21\n",
    "\n",
    "    d1 = k1*X - k1*c[0] - k2*c[0] + k2minus*c[1]\n",
    "    d2 = k2*c[0] - k2minus*c[1] - k3*c[1] +k3minus*Y*c[2]\n",
    "    d3 = k3*c[1] - k3minus*Y*c[2] -k4*c[2] +k4minus*Y*c[3]\n",
    "    d4 = k4*c[2] - k4minus*Y*c[3] - k5*c[3]*c[4] + k5minus*Z\n",
    "    d5 = -k5*c[3]*c[4] + k5minus*Z\n",
    "   # k = np.array()\n",
    "    return [d1, d2, d3, d4, d5]"
   ],
   "metadata": {
    "collapsed": false
   }
  },
  {
   "cell_type": "code",
   "execution_count": 23,
   "outputs": [
    {
     "name": "stdout",
     "output_type": "stream",
     "text": [
      "[-59341763560.06001, -749934950039.9401, -249951650009.0, 999886599968.9951, -40.0049997499016]\n"
     ]
    }
   ],
   "source": [
    "print(co2_sys(10,[1,2,3,4,5]))"
   ],
   "metadata": {
    "collapsed": false
   }
  },
  {
   "cell_type": "code",
   "execution_count": 24,
   "outputs": [
    {
     "ename": "ValueError",
     "evalue": "too many values to unpack (expected 2)",
     "output_type": "error",
     "traceback": [
      "\u001B[1;31m---------------------------------------------------------------------------\u001B[0m",
      "\u001B[1;31mValueError\u001B[0m                                Traceback (most recent call last)",
      "Input \u001B[1;32mIn [24]\u001B[0m, in \u001B[0;36m<cell line: 3>\u001B[1;34m()\u001B[0m\n\u001B[0;32m      1\u001B[0m \u001B[38;5;66;03m#X_soln = odeint(co2_sys,t=t,y0=IC)\u001B[39;00m\n\u001B[0;32m      2\u001B[0m \u001B[38;5;66;03m#X_soln = odeint(co2_sys,t,IC)\u001B[39;00m\n\u001B[1;32m----> 3\u001B[0m X_soln \u001B[38;5;241m=\u001B[39m \u001B[43msolve_ivp\u001B[49m\u001B[43m(\u001B[49m\u001B[43mco2_sys\u001B[49m\u001B[43m,\u001B[49m\u001B[43my0\u001B[49m\u001B[38;5;241;43m=\u001B[39;49m\u001B[43mIC\u001B[49m\u001B[43m,\u001B[49m\u001B[43mmethod\u001B[49m\u001B[38;5;241;43m=\u001B[39;49m\u001B[38;5;124;43m'\u001B[39;49m\u001B[38;5;124;43mLSODA\u001B[39;49m\u001B[38;5;124;43m'\u001B[39;49m\u001B[43m,\u001B[49m\u001B[43mt_span\u001B[49m\u001B[38;5;241;43m=\u001B[39;49m\u001B[43mt\u001B[49m\u001B[43m)\u001B[49m\n",
      "File \u001B[1;32m~\\PycharmProjects\\pythonUDEMYML\\venv\\lib\\site-packages\\scipy\\integrate\\_ivp\\ivp.py:512\u001B[0m, in \u001B[0;36msolve_ivp\u001B[1;34m(fun, t_span, y0, method, t_eval, dense_output, events, vectorized, args, **options)\u001B[0m\n\u001B[0;32m    507\u001B[0m \u001B[38;5;28;01mif\u001B[39;00m method \u001B[38;5;129;01mnot\u001B[39;00m \u001B[38;5;129;01min\u001B[39;00m METHODS \u001B[38;5;129;01mand\u001B[39;00m \u001B[38;5;129;01mnot\u001B[39;00m (\n\u001B[0;32m    508\u001B[0m         inspect\u001B[38;5;241m.\u001B[39misclass(method) \u001B[38;5;129;01mand\u001B[39;00m \u001B[38;5;28missubclass\u001B[39m(method, OdeSolver)):\n\u001B[0;32m    509\u001B[0m     \u001B[38;5;28;01mraise\u001B[39;00m \u001B[38;5;167;01mValueError\u001B[39;00m(\u001B[38;5;124m\"\u001B[39m\u001B[38;5;124m`method` must be one of \u001B[39m\u001B[38;5;132;01m{}\u001B[39;00m\u001B[38;5;124m or OdeSolver class.\u001B[39m\u001B[38;5;124m\"\u001B[39m\n\u001B[0;32m    510\u001B[0m                      \u001B[38;5;241m.\u001B[39mformat(METHODS))\n\u001B[1;32m--> 512\u001B[0m t0, tf \u001B[38;5;241m=\u001B[39m \u001B[38;5;28mmap\u001B[39m(\u001B[38;5;28mfloat\u001B[39m, t_span)\n\u001B[0;32m    514\u001B[0m \u001B[38;5;28;01mif\u001B[39;00m args \u001B[38;5;129;01mis\u001B[39;00m \u001B[38;5;129;01mnot\u001B[39;00m \u001B[38;5;28;01mNone\u001B[39;00m:\n\u001B[0;32m    515\u001B[0m     \u001B[38;5;66;03m# Wrap the user's fun (and jac, if given) in lambdas to hide the\u001B[39;00m\n\u001B[0;32m    516\u001B[0m     \u001B[38;5;66;03m# additional parameters.  Pass in the original fun as a keyword\u001B[39;00m\n\u001B[0;32m    517\u001B[0m     \u001B[38;5;66;03m# argument to keep it in the scope of the lambda.\u001B[39;00m\n\u001B[0;32m    518\u001B[0m     \u001B[38;5;28;01mtry\u001B[39;00m:\n",
      "\u001B[1;31mValueError\u001B[0m: too many values to unpack (expected 2)"
     ]
    }
   ],
   "source": [
    "#X_soln = odeint(co2_sys,t=t,y0=IC)\n",
    "#X_soln = odeint(co2_sys,t,IC)\n",
    "X_soln = solve_ivp(co2_sys,y0=IC,method='LSODA',t_span=t)\n"
   ],
   "metadata": {
    "collapsed": false
   }
  },
  {
   "cell_type": "code",
   "execution_count": null,
   "outputs": [],
   "source": [
    "X_soln"
   ],
   "metadata": {
    "collapsed": false
   }
  },
  {
   "cell_type": "code",
   "execution_count": null,
   "outputs": [],
   "source": [
    "print(X_soln)"
   ],
   "metadata": {
    "collapsed": false
   }
  },
  {
   "cell_type": "code",
   "execution_count": null,
   "outputs": [],
   "source": [
    "X_soln[:,1]"
   ],
   "metadata": {
    "collapsed": false
   }
  },
  {
   "cell_type": "code",
   "execution_count": null,
   "outputs": [],
   "source": [],
   "metadata": {
    "collapsed": false
   }
  }
 ],
 "metadata": {
  "kernelspec": {
   "display_name": "Python 3",
   "language": "python",
   "name": "python3"
  },
  "language_info": {
   "codemirror_mode": {
    "name": "ipython",
    "version": 2
   },
   "file_extension": ".py",
   "mimetype": "text/x-python",
   "name": "python",
   "nbconvert_exporter": "python",
   "pygments_lexer": "ipython2",
   "version": "2.7.6"
  }
 },
 "nbformat": 4,
 "nbformat_minor": 0
}
